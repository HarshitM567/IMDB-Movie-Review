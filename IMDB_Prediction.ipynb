{
 "cells": [
  {
   "cell_type": "code",
   "id": "initial_id",
   "metadata": {
    "collapsed": true,
    "ExecuteTime": {
     "end_time": "2025-03-28T08:53:59.934258Z",
     "start_time": "2025-03-28T08:53:59.926257Z"
    }
   },
   "source": [
    "import numpy as np\n",
    "import tensorflow as tf\n",
    "from tensorflow.keras.datasets import imdb\n",
    "from tensorflow.keras.preprocessing import sequence\n",
    "from tensorflow.keras.models import load_model"
   ],
   "outputs": [],
   "execution_count": 20
  },
  {
   "metadata": {
    "ExecuteTime": {
     "end_time": "2025-03-28T08:54:00.001129Z",
     "start_time": "2025-03-28T08:53:59.937784Z"
    }
   },
   "cell_type": "code",
   "source": [
    "## Load the IMDB dataset word index\n",
    "word_index = imdb.get_word_index()\n",
    "reverse_word_index = {value: key for key , value in word_index.items()}"
   ],
   "id": "4b300cf7b01424c6",
   "outputs": [],
   "execution_count": 21
  },
  {
   "metadata": {
    "ExecuteTime": {
     "end_time": "2025-03-28T08:54:00.069099Z",
     "start_time": "2025-03-28T08:54:00.003136Z"
    }
   },
   "cell_type": "code",
   "source": [
    "## Load the pre trained model with ReLu activation function\n",
    "model = load_model('Simple_RNN_Imdb.h5')\n",
    "model.summary()"
   ],
   "id": "8ce090355e7a1b83",
   "outputs": [
    {
     "name": "stderr",
     "output_type": "stream",
     "text": [
      "WARNING:absl:Compiled the loaded model, but the compiled metrics have yet to be built. `model.compile_metrics` will be empty until you train or evaluate the model.\n"
     ]
    },
    {
     "data": {
      "text/plain": [
       "\u001B[1mModel: \"sequential_1\"\u001B[0m\n"
      ],
      "text/html": [
       "<pre style=\"white-space:pre;overflow-x:auto;line-height:normal;font-family:Menlo,'DejaVu Sans Mono',consolas,'Courier New',monospace\"><span style=\"font-weight: bold\">Model: \"sequential_1\"</span>\n",
       "</pre>\n"
      ]
     },
     "metadata": {},
     "output_type": "display_data"
    },
    {
     "data": {
      "text/plain": [
       "┏━━━━━━━━━━━━━━━━━━━━━━━━━━━━━━━━━┳━━━━━━━━━━━━━━━━━━━━━━━━┳━━━━━━━━━━━━━━━┓\n",
       "┃\u001B[1m \u001B[0m\u001B[1mLayer (type)                   \u001B[0m\u001B[1m \u001B[0m┃\u001B[1m \u001B[0m\u001B[1mOutput Shape          \u001B[0m\u001B[1m \u001B[0m┃\u001B[1m \u001B[0m\u001B[1m      Param #\u001B[0m\u001B[1m \u001B[0m┃\n",
       "┡━━━━━━━━━━━━━━━━━━━━━━━━━━━━━━━━━╇━━━━━━━━━━━━━━━━━━━━━━━━╇━━━━━━━━━━━━━━━┩\n",
       "│ embedding_1 (\u001B[38;5;33mEmbedding\u001B[0m)         │ (\u001B[38;5;34m32\u001B[0m, \u001B[38;5;34m500\u001B[0m, \u001B[38;5;34m128\u001B[0m)         │     \u001B[38;5;34m1,280,000\u001B[0m │\n",
       "├─────────────────────────────────┼────────────────────────┼───────────────┤\n",
       "│ simple_rnn_1 (\u001B[38;5;33mSimpleRNN\u001B[0m)        │ (\u001B[38;5;34m32\u001B[0m, \u001B[38;5;34m128\u001B[0m)              │        \u001B[38;5;34m32,896\u001B[0m │\n",
       "├─────────────────────────────────┼────────────────────────┼───────────────┤\n",
       "│ dense_1 (\u001B[38;5;33mDense\u001B[0m)                 │ (\u001B[38;5;34m32\u001B[0m, \u001B[38;5;34m1\u001B[0m)                │           \u001B[38;5;34m129\u001B[0m │\n",
       "└─────────────────────────────────┴────────────────────────┴───────────────┘\n"
      ],
      "text/html": [
       "<pre style=\"white-space:pre;overflow-x:auto;line-height:normal;font-family:Menlo,'DejaVu Sans Mono',consolas,'Courier New',monospace\">┏━━━━━━━━━━━━━━━━━━━━━━━━━━━━━━━━━┳━━━━━━━━━━━━━━━━━━━━━━━━┳━━━━━━━━━━━━━━━┓\n",
       "┃<span style=\"font-weight: bold\"> Layer (type)                    </span>┃<span style=\"font-weight: bold\"> Output Shape           </span>┃<span style=\"font-weight: bold\">       Param # </span>┃\n",
       "┡━━━━━━━━━━━━━━━━━━━━━━━━━━━━━━━━━╇━━━━━━━━━━━━━━━━━━━━━━━━╇━━━━━━━━━━━━━━━┩\n",
       "│ embedding_1 (<span style=\"color: #0087ff; text-decoration-color: #0087ff\">Embedding</span>)         │ (<span style=\"color: #00af00; text-decoration-color: #00af00\">32</span>, <span style=\"color: #00af00; text-decoration-color: #00af00\">500</span>, <span style=\"color: #00af00; text-decoration-color: #00af00\">128</span>)         │     <span style=\"color: #00af00; text-decoration-color: #00af00\">1,280,000</span> │\n",
       "├─────────────────────────────────┼────────────────────────┼───────────────┤\n",
       "│ simple_rnn_1 (<span style=\"color: #0087ff; text-decoration-color: #0087ff\">SimpleRNN</span>)        │ (<span style=\"color: #00af00; text-decoration-color: #00af00\">32</span>, <span style=\"color: #00af00; text-decoration-color: #00af00\">128</span>)              │        <span style=\"color: #00af00; text-decoration-color: #00af00\">32,896</span> │\n",
       "├─────────────────────────────────┼────────────────────────┼───────────────┤\n",
       "│ dense_1 (<span style=\"color: #0087ff; text-decoration-color: #0087ff\">Dense</span>)                 │ (<span style=\"color: #00af00; text-decoration-color: #00af00\">32</span>, <span style=\"color: #00af00; text-decoration-color: #00af00\">1</span>)                │           <span style=\"color: #00af00; text-decoration-color: #00af00\">129</span> │\n",
       "└─────────────────────────────────┴────────────────────────┴───────────────┘\n",
       "</pre>\n"
      ]
     },
     "metadata": {},
     "output_type": "display_data"
    },
    {
     "data": {
      "text/plain": [
       "\u001B[1m Total params: \u001B[0m\u001B[38;5;34m1,313,027\u001B[0m (5.01 MB)\n"
      ],
      "text/html": [
       "<pre style=\"white-space:pre;overflow-x:auto;line-height:normal;font-family:Menlo,'DejaVu Sans Mono',consolas,'Courier New',monospace\"><span style=\"font-weight: bold\"> Total params: </span><span style=\"color: #00af00; text-decoration-color: #00af00\">1,313,027</span> (5.01 MB)\n",
       "</pre>\n"
      ]
     },
     "metadata": {},
     "output_type": "display_data"
    },
    {
     "data": {
      "text/plain": [
       "\u001B[1m Trainable params: \u001B[0m\u001B[38;5;34m1,313,025\u001B[0m (5.01 MB)\n"
      ],
      "text/html": [
       "<pre style=\"white-space:pre;overflow-x:auto;line-height:normal;font-family:Menlo,'DejaVu Sans Mono',consolas,'Courier New',monospace\"><span style=\"font-weight: bold\"> Trainable params: </span><span style=\"color: #00af00; text-decoration-color: #00af00\">1,313,025</span> (5.01 MB)\n",
       "</pre>\n"
      ]
     },
     "metadata": {},
     "output_type": "display_data"
    },
    {
     "data": {
      "text/plain": [
       "\u001B[1m Non-trainable params: \u001B[0m\u001B[38;5;34m0\u001B[0m (0.00 B)\n"
      ],
      "text/html": [
       "<pre style=\"white-space:pre;overflow-x:auto;line-height:normal;font-family:Menlo,'DejaVu Sans Mono',consolas,'Courier New',monospace\"><span style=\"font-weight: bold\"> Non-trainable params: </span><span style=\"color: #00af00; text-decoration-color: #00af00\">0</span> (0.00 B)\n",
       "</pre>\n"
      ]
     },
     "metadata": {},
     "output_type": "display_data"
    },
    {
     "data": {
      "text/plain": [
       "\u001B[1m Optimizer params: \u001B[0m\u001B[38;5;34m2\u001B[0m (12.00 B)\n"
      ],
      "text/html": [
       "<pre style=\"white-space:pre;overflow-x:auto;line-height:normal;font-family:Menlo,'DejaVu Sans Mono',consolas,'Courier New',monospace\"><span style=\"font-weight: bold\"> Optimizer params: </span><span style=\"color: #00af00; text-decoration-color: #00af00\">2</span> (12.00 B)\n",
       "</pre>\n"
      ]
     },
     "metadata": {},
     "output_type": "display_data"
    }
   ],
   "execution_count": 22
  },
  {
   "metadata": {
    "ExecuteTime": {
     "end_time": "2025-03-28T08:54:00.088110Z",
     "start_time": "2025-03-28T08:54:00.072110Z"
    }
   },
   "cell_type": "code",
   "source": "model.get_weights()",
   "id": "37b0b67257eaf63f",
   "outputs": [
    {
     "data": {
      "text/plain": [
       "[array([[ 0.14437477, -0.00290793, -0.01592098, ..., -0.10751   ,\n",
       "          0.04852325, -0.08747264],\n",
       "        [ 0.09893256, -0.03397639, -0.03040715, ..., -0.10439458,\n",
       "          0.06427225,  0.0301117 ],\n",
       "        [ 0.09723517, -0.00093211,  0.00500218, ..., -0.0703424 ,\n",
       "          0.0358608 ,  0.00338529],\n",
       "        ...,\n",
       "        [ 0.01652939, -0.03302747,  0.0202229 , ...,  0.01868181,\n",
       "          0.00506541,  0.05778301],\n",
       "        [-0.01099735, -0.01211804, -0.03718856, ...,  0.02557413,\n",
       "         -0.02858098, -0.03364704],\n",
       "        [ 0.0250412 ,  0.0430242 , -0.01412578, ..., -0.01269349,\n",
       "          0.07127504, -0.01933698]], dtype=float32),\n",
       " array([[-0.12783533,  0.10015605,  0.11527625, ..., -0.16821478,\n",
       "         -0.02092936, -0.18253893],\n",
       "        [ 0.07812939, -0.06257774, -0.0442706 , ...,  0.04286002,\n",
       "         -0.01990854, -0.0202511 ],\n",
       "        [ 0.09597719,  0.16644946, -0.14237258, ..., -0.18282644,\n",
       "          0.08493887,  0.05218489],\n",
       "        ...,\n",
       "        [ 0.17719531,  0.00614782,  0.18245353, ...,  0.03940607,\n",
       "          0.09667919, -0.07009135],\n",
       "        [-0.09212755, -0.14838563,  0.02641992, ...,  0.07175465,\n",
       "          0.05284199, -0.1439837 ],\n",
       "        [ 0.15976104,  0.01296307, -0.03795506, ...,  0.10243072,\n",
       "          0.04672208,  0.11918174]], dtype=float32),\n",
       " array([[ 0.15312001, -0.03354669,  0.02148102, ...,  0.09430289,\n",
       "         -0.04292974, -0.09264285],\n",
       "        [-0.13642132, -0.0360474 ,  0.05147651, ..., -0.06788498,\n",
       "          0.09146351, -0.02361566],\n",
       "        [ 0.09752242, -0.17573228, -0.04640894, ..., -0.07613583,\n",
       "         -0.02426815, -0.06982921],\n",
       "        ...,\n",
       "        [-0.07993962,  0.00936938, -0.01711299, ..., -0.01070555,\n",
       "         -0.02421315,  0.01144751],\n",
       "        [-0.11507612, -0.19991241, -0.05482123, ..., -0.11084101,\n",
       "          0.03817594, -0.08433446],\n",
       "        [-0.18255211,  0.09259138,  0.00428737, ...,  0.04230961,\n",
       "          0.10679059, -0.08216214]], dtype=float32),\n",
       " array([-0.0349038 , -0.00229526, -0.01140972, -0.00022693, -0.02622488,\n",
       "         0.00645099, -0.0071805 , -0.05149991,  0.00022618, -0.0174178 ,\n",
       "        -0.00565533,  0.01282368,  0.00422348, -0.03144629, -0.01359979,\n",
       "        -0.00868792, -0.0016078 , -0.01332556, -0.0102846 ,  0.05487844,\n",
       "         0.0085579 , -0.01670987, -0.00451745, -0.01131595, -0.0231501 ,\n",
       "         0.00925195, -0.02180231, -0.00206094, -0.01836743,  0.00576179,\n",
       "        -0.00331457, -0.02904574, -0.0341685 , -0.0022197 , -0.05164914,\n",
       "        -0.00978409, -0.02657481, -0.00232805, -0.02464702,  0.00112621,\n",
       "        -0.0230805 ,  0.01883397, -0.01295648,  0.01655065, -0.01501345,\n",
       "        -0.01649349, -0.01777847,  0.00608312,  0.00892687,  0.04944382,\n",
       "         0.01351237, -0.02130573,  0.00490794, -0.00393589, -0.01251388,\n",
       "        -0.02260551,  0.010922  ,  0.0040078 , -0.00834977,  0.00046743,\n",
       "        -0.00718877, -0.0162531 , -0.03099289, -0.00872839, -0.00972631,\n",
       "        -0.01151399,  0.00041814, -0.02107363, -0.00603136, -0.00342721,\n",
       "        -0.01178099, -0.01492202, -0.03081652,  0.00268387, -0.00861728,\n",
       "         0.01739876,  0.00426318, -0.01504334, -0.02244276, -0.01210722,\n",
       "        -0.00714166, -0.01709118,  0.03206855, -0.01046522,  0.01329964,\n",
       "        -0.02645266, -0.02258475, -0.01308031, -0.02078524,  0.01798573,\n",
       "        -0.00288322,  0.00843613,  0.01906672,  0.01112258,  0.00015693,\n",
       "        -0.01851873,  0.00549313, -0.00829332,  0.02869617, -0.00500273,\n",
       "        -0.00112049,  0.0137577 ,  0.00500334, -0.02752468, -0.00349272,\n",
       "        -0.01910339, -0.00929385, -0.03082503,  0.02039791, -0.00810191,\n",
       "         0.00650007,  0.00449247,  0.0175222 ,  0.01966281, -0.026087  ,\n",
       "        -0.00244698, -0.01672169, -0.01281242, -0.02415807, -0.00991244,\n",
       "         0.01095689,  0.01730079,  0.01569952, -0.00601309,  0.00652029,\n",
       "        -0.0271834 , -0.00546588, -0.0058941 ], dtype=float32),\n",
       " array([[ 0.22518337],\n",
       "        [ 0.10151938],\n",
       "        [-0.07289195],\n",
       "        [ 0.12489963],\n",
       "        [-0.17522614],\n",
       "        [-0.11654445],\n",
       "        [-0.20852625],\n",
       "        [-0.22804552],\n",
       "        [-0.2302741 ],\n",
       "        [ 0.22045496],\n",
       "        [ 0.01090027],\n",
       "        [-0.2701433 ],\n",
       "        [ 0.13046022],\n",
       "        [-0.13335079],\n",
       "        [-0.05810809],\n",
       "        [ 0.05667333],\n",
       "        [ 0.04262892],\n",
       "        [-0.05342313],\n",
       "        [ 0.13271882],\n",
       "        [-0.2733586 ],\n",
       "        [ 0.24730682],\n",
       "        [ 0.0070597 ],\n",
       "        [-0.30591673],\n",
       "        [-0.07076108],\n",
       "        [-0.02886481],\n",
       "        [ 0.25875014],\n",
       "        [-0.04806725],\n",
       "        [-0.18460424],\n",
       "        [-0.01510123],\n",
       "        [-0.21029659],\n",
       "        [-0.27102742],\n",
       "        [ 0.0814022 ],\n",
       "        [ 0.00187819],\n",
       "        [ 0.13961324],\n",
       "        [ 0.2441228 ],\n",
       "        [-0.20220011],\n",
       "        [-0.2105154 ],\n",
       "        [ 0.21149553],\n",
       "        [-0.21161045],\n",
       "        [ 0.1438001 ],\n",
       "        [-0.23220171],\n",
       "        [-0.26589754],\n",
       "        [-0.11774947],\n",
       "        [ 0.17928314],\n",
       "        [-0.18453805],\n",
       "        [-0.23681916],\n",
       "        [ 0.03851569],\n",
       "        [ 0.10209917],\n",
       "        [-0.24889247],\n",
       "        [ 0.15749748],\n",
       "        [ 0.1576346 ],\n",
       "        [-0.01235998],\n",
       "        [ 0.15592027],\n",
       "        [ 0.15037236],\n",
       "        [ 0.12794077],\n",
       "        [ 0.09457342],\n",
       "        [-0.22297746],\n",
       "        [ 0.21680757],\n",
       "        [ 0.03551412],\n",
       "        [-0.17307083],\n",
       "        [ 0.24560857],\n",
       "        [ 0.23791206],\n",
       "        [ 0.00637386],\n",
       "        [-0.1385546 ],\n",
       "        [-0.10822974],\n",
       "        [ 0.07817703],\n",
       "        [ 0.1346353 ],\n",
       "        [ 0.24359266],\n",
       "        [ 0.17061795],\n",
       "        [ 0.09966427],\n",
       "        [ 0.18635003],\n",
       "        [-0.07057656],\n",
       "        [ 0.24427137],\n",
       "        [-0.22623037],\n",
       "        [-0.11887805],\n",
       "        [ 0.25333455],\n",
       "        [ 0.15701082],\n",
       "        [-0.12017084],\n",
       "        [-0.00345746],\n",
       "        [-0.14428484],\n",
       "        [-0.04969775],\n",
       "        [-0.1967977 ],\n",
       "        [ 0.2662738 ],\n",
       "        [ 0.04696871],\n",
       "        [ 0.25164503],\n",
       "        [ 0.10390689],\n",
       "        [ 0.16798781],\n",
       "        [-0.06336624],\n",
       "        [ 0.17490678],\n",
       "        [ 0.15479495],\n",
       "        [ 0.00712578],\n",
       "        [-0.06998686],\n",
       "        [-0.26302966],\n",
       "        [-0.20908232],\n",
       "        [-0.1784402 ],\n",
       "        [ 0.10751327],\n",
       "        [ 0.0104624 ],\n",
       "        [-0.11010687],\n",
       "        [ 0.27376086],\n",
       "        [ 0.10710447],\n",
       "        [ 0.22431958],\n",
       "        [ 0.27927798],\n",
       "        [ 0.20132169],\n",
       "        [ 0.18014337],\n",
       "        [ 0.25734714],\n",
       "        [-0.02622943],\n",
       "        [-0.19972134],\n",
       "        [-0.22862634],\n",
       "        [ 0.12373038],\n",
       "        [ 0.22820872],\n",
       "        [ 0.02104042],\n",
       "        [-0.13015862],\n",
       "        [-0.14081603],\n",
       "        [ 0.08770341],\n",
       "        [ 0.1325761 ],\n",
       "        [ 0.01733906],\n",
       "        [ 0.23215461],\n",
       "        [-0.27973562],\n",
       "        [ 0.02186896],\n",
       "        [ 0.251985  ],\n",
       "        [-0.22541727],\n",
       "        [ 0.0407467 ],\n",
       "        [ 0.19812272],\n",
       "        [-0.17583649],\n",
       "        [ 0.08777482],\n",
       "        [-0.14997263],\n",
       "        [-0.05964879],\n",
       "        [ 0.14030643]], dtype=float32),\n",
       " array([-0.0187405], dtype=float32)]"
      ]
     },
     "execution_count": 23,
     "metadata": {},
     "output_type": "execute_result"
    }
   ],
   "execution_count": 23
  },
  {
   "metadata": {
    "ExecuteTime": {
     "end_time": "2025-03-28T08:54:00.095796Z",
     "start_time": "2025-03-28T08:54:00.089627Z"
    }
   },
   "cell_type": "code",
   "source": [
    "## Step 2: Helper Function\n",
    "## Function to decode reviews\n",
    "def decode_review(encoded_review):\n",
    "    return ' '.join([reverse_word_index.get(i - 3, '?')for i in encoded_review])\n",
    "\n",
    "## Function to preprocess user input\n",
    "def preprocess_text(text):\n",
    "    words = text.lower().split()\n",
    "    encoded_review = [word_index.get(word, 2) + 3 for word in words]\n",
    "    padded_review = sequence.pad_sequences([encoded_review], maxlen = 500)\n",
    "    return padded_review"
   ],
   "id": "5cfccebadbedeaf3",
   "outputs": [],
   "execution_count": 24
  },
  {
   "metadata": {
    "ExecuteTime": {
     "end_time": "2025-03-28T08:54:00.102802Z",
     "start_time": "2025-03-28T08:54:00.097803Z"
    }
   },
   "cell_type": "code",
   "source": [
    "## Prediction Function\n",
    "def predict_sentiment(review):\n",
    "    preprocessed_input = preprocess_text(review)\n",
    "    \n",
    "    prediction = model.predict(preprocessed_input)\n",
    "    \n",
    "    sentiment = 'Positive' if prediction[0][0] > 0.5 else 'Negative'\n",
    "    \n",
    "    return sentiment, prediction[0][0]"
   ],
   "id": "49e9363d34c1d7ec",
   "outputs": [],
   "execution_count": 25
  },
  {
   "metadata": {
    "ExecuteTime": {
     "end_time": "2025-03-28T08:54:45.343530Z",
     "start_time": "2025-03-28T08:54:45.186190Z"
    }
   },
   "cell_type": "code",
   "source": [
    "## Step 4: User Input and Prediction\n",
    "## example review for prediction\n",
    "example_review = \"The movie was absolutely pathetic and a waste of time! I just hatred the acting.\"\n",
    "\n",
    "sentiment, score = predict_sentiment(example_review)\n",
    "print(f'Review: {example_review}')\n",
    "print(f'Sentiment: {sentiment}')\n",
    "print(f'Prediction Score: {score}')"
   ],
   "id": "a4157fc4e0d364ed",
   "outputs": [
    {
     "name": "stdout",
     "output_type": "stream",
     "text": [
      "\u001B[1m1/1\u001B[0m \u001B[32m━━━━━━━━━━━━━━━━━━━━\u001B[0m\u001B[37m\u001B[0m \u001B[1m0s\u001B[0m 68ms/step\n",
      "Review: The movie was absolutely pathetic and a waste of time! I just hatred the acting.\n",
      "Sentiment: Negative\n",
      "Prediction Score: 0.4938482344150543\n"
     ]
    }
   ],
   "execution_count": 27
  },
  {
   "metadata": {
    "ExecuteTime": {
     "end_time": "2025-03-28T08:54:00.302681Z",
     "start_time": "2025-03-28T08:54:00.299572Z"
    }
   },
   "cell_type": "code",
   "source": "",
   "id": "11567e4594f74199",
   "outputs": [],
   "execution_count": 26
  }
 ],
 "metadata": {
  "kernelspec": {
   "display_name": "Python 3",
   "language": "python",
   "name": "python3"
  },
  "language_info": {
   "codemirror_mode": {
    "name": "ipython",
    "version": 2
   },
   "file_extension": ".py",
   "mimetype": "text/x-python",
   "name": "python",
   "nbconvert_exporter": "python",
   "pygments_lexer": "ipython2",
   "version": "2.7.6"
  }
 },
 "nbformat": 4,
 "nbformat_minor": 5
}
